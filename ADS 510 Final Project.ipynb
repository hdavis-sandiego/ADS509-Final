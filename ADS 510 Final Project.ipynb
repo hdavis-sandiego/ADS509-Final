{
 "cells": [
  {
   "cell_type": "markdown",
   "id": "2250584c",
   "metadata": {},
   "source": [
    "# Libraries"
   ]
  },
  {
   "cell_type": "code",
   "execution_count": 1,
   "id": "66f5ecf9",
   "metadata": {},
   "outputs": [],
   "source": [
    "import os\n",
    "import datetime\n",
    "import re\n",
    "import requests\n",
    "import time\n",
    "from bs4 import BeautifulSoup\n",
    "from collections import defaultdict, Counter\n",
    "import random\n",
    "import shutil\n",
    "from pathlib import Path"
   ]
  },
  {
   "cell_type": "markdown",
   "id": "30fe9540",
   "metadata": {},
   "source": [
    "# Scraping Data"
   ]
  },
  {
   "cell_type": "markdown",
   "id": "34a4693c",
   "metadata": {},
   "source": [
    "## Get Links"
   ]
  },
  {
   "cell_type": "code",
   "execution_count": 16,
   "id": "4b20e8c5",
   "metadata": {},
   "outputs": [],
   "source": [
    "years = {'year07':\"https://arlweb.msha.gov/fatals/indices/FABM2007.asp\",\n",
    "         'year06':\"https://arlweb.msha.gov/fatals/indices/FABM2006.asp\",\n",
    "         'year05':\"https://arlweb.msha.gov/fatals/indices/FABM2005.asp\",\n",
    "         'year04':\"https://arlweb.msha.gov/fatals/indices/FABM2004.HTM\",\n",
    "         'year03':\"https://arlweb.msha.gov/fatals/indices/FABM2003.HTM\",\n",
    "         'year02':\"https://arlweb.msha.gov/fatals/indices/FABM2002.HTM\",\n",
    "         'year01':\"https://arlweb.msha.gov/fatals/indices/FABM2001.HTM\",\n",
    "         'year00':\"https://arlweb.msha.gov/fatals/indices/FABM2000.HTM\",\n",
    "         'year99':\"https://arlweb.msha.gov/fatals/indices/FABM99.HTM\",\n",
    "         'year98':\"https://arlweb.msha.gov/fatals/indices/FABM98.HTM\",\n",
    "         'year97':\"https://arlweb.msha.gov/fatals/indices/FABM97.HTM\",\n",
    "         'year96':\"https://arlweb.msha.gov/fatals/indices/FABM96.HTM\",\n",
    "         'year95':\"https://arlweb.msha.gov/fatals/indices/FABM95.HTM\",\n",
    "        } "
   ]
  },
  {
   "cell_type": "code",
   "execution_count": 17,
   "id": "fa79551c",
   "metadata": {},
   "outputs": [],
   "source": [
    "report_pages = defaultdict(list)\n",
    "urls = []\n",
    "\n",
    "for year, year_page in years.items() :\n",
    "    r = requests.get(year_page)\n",
    "    time.sleep(5 + 10*random.random())\n",
    "    soup = BeautifulSoup(r.text, 'html.parser')\n",
    "    links = soup.find_all('a', href=True)\n",
    "    for link in links:\n",
    "        if '/FATALS/' in link['href']:\n",
    "            urls.append(link.get('href'))\n",
    "            report_pages[year].append(link.get('href'))\n",
    "            "
   ]
  },
  {
   "cell_type": "code",
   "execution_count": 18,
   "id": "d98a9662",
   "metadata": {},
   "outputs": [
    {
     "name": "stdout",
     "output_type": "stream",
     "text": [
      "For year07 we have 63.\n",
      "The full pull will take for this artist will take 0.17 hours.\n",
      "For year06 we have 51.\n",
      "The full pull will take for this artist will take 0.14 hours.\n",
      "For year05 we have 70.\n",
      "The full pull will take for this artist will take 0.19 hours.\n",
      "For year04 we have 51.\n",
      "The full pull will take for this artist will take 0.14 hours.\n",
      "For year03 we have 52.\n",
      "The full pull will take for this artist will take 0.14 hours.\n",
      "For year02 we have 80.\n",
      "The full pull will take for this artist will take 0.22 hours.\n",
      "For year01 we have 57.\n",
      "The full pull will take for this artist will take 0.16 hours.\n",
      "For year00 we have 92.\n",
      "The full pull will take for this artist will take 0.26 hours.\n",
      "For year99 we have 106.\n",
      "The full pull will take for this artist will take 0.29 hours.\n",
      "For year98 we have 102.\n",
      "The full pull will take for this artist will take 0.28 hours.\n",
      "For year97 we have 123.\n",
      "The full pull will take for this artist will take 0.34 hours.\n",
      "For year96 we have 92.\n",
      "The full pull will take for this artist will take 0.26 hours.\n",
      "For year95 we have 106.\n",
      "The full pull will take for this artist will take 0.29 hours.\n"
     ]
    }
   ],
   "source": [
    "for year, links in report_pages.items() : \n",
    "    print(f\"For {year} we have {len(links)}.\")\n",
    "    print(f\"The full pull will take for this artist will take {round(len(links)*10/3600,2)} hours.\")"
   ]
  },
  {
   "cell_type": "markdown",
   "id": "3f2dbf0d",
   "metadata": {},
   "source": [
    "## Get Data"
   ]
  },
  {
   "cell_type": "code",
   "execution_count": null,
   "id": "8afdfd48",
   "metadata": {},
   "outputs": [],
   "source": [
    "############## NOT YET RAN ################3\n",
    "\n",
    "def generate_filename_from_link(link) :\n",
    "    \n",
    "    if not link :\n",
    "        return None\n",
    "    \n",
    "    # drop the http or https and the html\n",
    "    name = link.replace(\"https\",\"\").replace(\"http\",\"\")\n",
    "    name = link.replace(\".html\",\"\")\n",
    "\n",
    "    name = name.replace(\"/reports/\",\"\")\n",
    "    \n",
    "    # Replace useless chareacters with UNDERSCORE\n",
    "    name = name.replace(\"://\",\"\").replace(\".\",\"_\").replace(\"/\",\"_\")\n",
    "    \n",
    "    # tack on .txt\n",
    "    name = name + \".txt\"\n",
    "    \n",
    "    return(name)"
   ]
  },
  {
   "cell_type": "code",
   "execution_count": null,
   "id": "a4914a4f",
   "metadata": {},
   "outputs": [],
   "source": [
    "############## NOT YET RAN ################3\n",
    "\n",
    "if os.path.isdir(\"reports\") : \n",
    "    shutil.rmtree(\"reports/\")\n",
    "\n",
    "os.mkdir(\"reports\")"
   ]
  }
 ],
 "metadata": {
  "kernelspec": {
   "display_name": "Python 3 (ipykernel)",
   "language": "python",
   "name": "python3"
  },
  "language_info": {
   "codemirror_mode": {
    "name": "ipython",
    "version": 3
   },
   "file_extension": ".py",
   "mimetype": "text/x-python",
   "name": "python",
   "nbconvert_exporter": "python",
   "pygments_lexer": "ipython3",
   "version": "3.10.9"
  }
 },
 "nbformat": 4,
 "nbformat_minor": 5
}
